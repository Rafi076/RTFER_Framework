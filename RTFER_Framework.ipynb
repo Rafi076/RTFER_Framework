{
  "cells": [
    {
      "cell_type": "markdown",
      "metadata": {
        "id": "view-in-github",
        "colab_type": "text"
      },
      "source": [
        "<a href=\"https://colab.research.google.com/github/Rafi076/RTFER_Framework/blob/main/RTFER_Framework.ipynb\" target=\"_parent\"><img src=\"https://colab.research.google.com/assets/colab-badge.svg\" alt=\"Open In Colab\"/></a>"
      ]
    },
    {
      "cell_type": "code",
      "execution_count": 26,
      "metadata": {
        "colab": {
          "base_uri": "https://localhost:8080/"
        },
        "id": "0Twl0pdXJbpH",
        "outputId": "abc654d9-6fa0-4951-f6f5-4c6d158e3498"
      },
      "outputs": [
        {
          "output_type": "stream",
          "name": "stdout",
          "text": [
            "fatal: destination path 'RTFER_Framework' already exists and is not an empty directory.\n"
          ]
        }
      ],
      "source": [
        "!git clone https://github.com/Rafi076/RTFER_Framework.git"
      ]
    },
    {
      "cell_type": "code",
      "execution_count": 27,
      "metadata": {
        "colab": {
          "base_uri": "https://localhost:8080/"
        },
        "id": "AJLVzvdEnc2z",
        "outputId": "b5e60f25-1f90-495b-ab92-43edd2e7902a"
      },
      "outputs": [
        {
          "output_type": "stream",
          "name": "stdout",
          "text": [
            "Drive already mounted at /content/drive; to attempt to forcibly remount, call drive.mount(\"/content/drive\", force_remount=True).\n"
          ]
        }
      ],
      "source": [
        "# STEP 1: Mount Google Drive\n",
        "from google.colab import drive\n",
        "drive.mount('/content/drive')\n"
      ]
    },
    {
      "cell_type": "code",
      "execution_count": 28,
      "metadata": {
        "colab": {
          "base_uri": "https://localhost:8080/"
        },
        "id": "uLNCsctEnqHJ",
        "outputId": "e3d26325-3466-4cdf-ccd7-45a68e936eff"
      },
      "outputs": [
        {
          "output_type": "stream",
          "name": "stdout",
          "text": [
            "✅ Unzipped successfully!\n"
          ]
        }
      ],
      "source": [
        "# STEP 2: Correct zip path (case-sensitive, and spelling checked)\n",
        "zip_path = '/content/drive/MyDrive/RTFER_Framwork/FER-2013.zip'\n",
        "extract_to = '/content'  # Since zip already has a folder inside, extract to /content\n",
        "\n",
        "# STEP 3: Unzip\n",
        "import zipfile, os\n",
        "\n",
        "with zipfile.ZipFile(zip_path, 'r') as zip_ref:\n",
        "    zip_ref.extractall(extract_to)\n",
        "\n",
        "print(\"✅ Unzipped successfully!\")\n"
      ]
    },
    {
      "cell_type": "code",
      "execution_count": 29,
      "metadata": {
        "colab": {
          "base_uri": "https://localhost:8080/"
        },
        "id": "vw8mNbcQovLs",
        "outputId": "d4585e3d-709c-4b5f-8cb6-aadf7607b5fa"
      },
      "outputs": [
        {
          "output_type": "stream",
          "name": "stdout",
          "text": [
            "test  train\n"
          ]
        }
      ],
      "source": [
        "# Show contents of the extracted folder\n",
        "!ls \"/content/FER-2013\""
      ]
    },
    {
      "cell_type": "markdown",
      "metadata": {
        "id": "FjPMaYUGqwYU"
      },
      "source": [
        "**Step 3: Import Libraries**"
      ]
    },
    {
      "cell_type": "code",
      "execution_count": 30,
      "metadata": {
        "id": "UFZ4NycMpiTT"
      },
      "outputs": [],
      "source": [
        "import os\n",
        "import numpy as np\n",
        "import matplotlib.pyplot as plt\n",
        "import seaborn as sns\n",
        "from PIL import Image\n",
        "from tqdm import tqdm\n",
        "import torch\n",
        "import torch.nn as nn\n",
        "from torchvision import transforms, datasets, models\n",
        "from torch.utils.data import DataLoader\n",
        "from sklearn.metrics import classification_report, confusion_matrix\n"
      ]
    },
    {
      "cell_type": "markdown",
      "metadata": {
        "id": "qtf7lGdpr_7o"
      },
      "source": [
        "**Step 4: Define Transforms for Data Augmentation**"
      ]
    },
    {
      "cell_type": "code",
      "execution_count": 31,
      "metadata": {
        "id": "O1nGqjVuqjak"
      },
      "outputs": [],
      "source": [
        "\n",
        "\n",
        "# ✅ Final Step 4:\n",
        "train_transforms = transforms.Compose([\n",
        "    transforms.RandomHorizontalFlip(),\n",
        "    transforms.RandomRotation(10),\n",
        "    transforms.RandomCrop(48, padding=4),\n",
        "    transforms.ToTensor(),\n",
        "    transforms.Normalize(mean=[0.5], std=[0.5])\n",
        "])\n",
        "\n",
        "\n",
        "test_transforms = transforms.Compose([\n",
        "    transforms.Resize((48, 48)),\n",
        "    transforms.ToTensor(),\n",
        "    transforms.Normalize(mean=[0.5, 0.5, 0.5], std=[0.5, 0.5, 0.5])  # for 3 channels\n",
        "])\n"
      ]
    },
    {
      "cell_type": "markdown",
      "metadata": {
        "id": "YqbKXt_hsdYV"
      },
      "source": [
        "**Step 5: Load the Dataset**\n",
        "\n",
        "We load images using ImageFolder."
      ]
    },
    {
      "cell_type": "code",
      "execution_count": 32,
      "metadata": {
        "colab": {
          "base_uri": "https://localhost:8080/"
        },
        "id": "aJShm4HdsnQh",
        "outputId": "64ccd884-f9da-4e35-9c9e-ebfcd0f90cb2"
      },
      "outputs": [
        {
          "output_type": "stream",
          "name": "stdout",
          "text": [
            "Classes: ['angry', 'disgust', 'fear', 'happy', 'neutral', 'sad', 'surprise']\n"
          ]
        }
      ],
      "source": [
        "from torch.utils.data import Subset, DataLoader\n",
        "import numpy as np\n",
        "\n",
        "train_dir = \"/content/FER-2013/train\"\n",
        "test_dir = \"/content/FER-2013/test\"\n",
        "\n",
        "# Apply transforms\n",
        "train_data_full = datasets.ImageFolder(root=train_dir, transform=train_transforms)\n",
        "test_data = datasets.ImageFolder(root=test_dir, transform=test_transforms)\n",
        "\n",
        "# ✅ Reduce training dataset size (use 8000 samples for faster training)\n",
        "subset_size = 8000  # You can try 5000 for even faster training\n",
        "train_subset_indices = list(range(subset_size))\n",
        "train_data = Subset(train_data_full, train_subset_indices)\n",
        "\n",
        "# ✅ Class names (from full set, safe to use)\n",
        "class_names = train_data_full.classes\n",
        "print(\"Classes:\", class_names)\n",
        "\n",
        "# ✅ Split into train and val\n",
        "val_percent = 0.1  # 10% for validation\n",
        "num_val = int(len(train_data) * val_percent)\n",
        "indices = np.random.permutation(len(train_data))\n",
        "\n",
        "val_indices = indices[:num_val]\n",
        "train_indices = indices[num_val:]\n",
        "\n",
        "train_subset = Subset(train_data, train_indices)\n",
        "val_subset = Subset(train_data, val_indices)\n",
        "\n",
        "# ✅ Use larger batch size for speed (if memory allows)\n",
        "train_loader = DataLoader(train_subset, batch_size=128, shuffle=True)\n",
        "val_loader = DataLoader(val_subset, batch_size=128, shuffle=False)\n",
        "test_loader = DataLoader(test_data, batch_size=128, shuffle=False)\n"
      ]
    },
    {
      "cell_type": "markdown",
      "metadata": {
        "id": "ryo5sNRKtJL8"
      },
      "source": [
        "**Step 6: Visualize Sample Images**\n",
        "\n",
        "Before training, let’s confirm that the images and labels are loading correctly:"
      ]
    },
    {
      "cell_type": "code",
      "execution_count": 33,
      "metadata": {
        "colab": {
          "base_uri": "https://localhost:8080/",
          "height": 119
        },
        "id": "VTRj1H8stNgp",
        "outputId": "e7456bb2-ba0c-49c3-c0cb-8e3ba2a69bdd"
      },
      "outputs": [
        {
          "output_type": "display_data",
          "data": {
            "text/plain": [
              "<Figure size 640x480 with 1 Axes>"
            ],
            "image/png": "[encoded data removed]"
          },
          "metadata": {}
        },
        {
          "output_type": "stream",
          "name": "stdout",
          "text": [
            "angry angry fear fear angry fear fear angry\n"
          ]
        }
      ],
      "source": [
        "import torch\n",
        "import torchvision\n",
        "import matplotlib.pyplot as plt\n",
        "import numpy as np\n",
        "\n",
        "# Helper function to show image\n",
        "def imshow(img):\n",
        "    img = img / 2 + 0.5  # unnormalize\n",
        "    npimg = img.numpy()\n",
        "    plt.imshow(np.transpose(npimg, (1, 2, 0)))\n",
        "    plt.axis('off')\n",
        "    plt.show()\n",
        "\n",
        "# Get a batch of training data\n",
        "dataiter = iter(train_loader)\n",
        "images, labels = next(dataiter)\n",
        "\n",
        "# Show images\n",
        "imshow(torchvision.utils.make_grid(images[:8]))\n",
        "# Show labels\n",
        "print(' '.join(f'{class_names[labels[j]]}' for j in range(8)))\n"
      ]
    },
    {
      "cell_type": "markdown",
      "metadata": {
        "id": "5Xd8LydruAZU"
      },
      "source": [
        "**Step 7: Build the CNN Model**\n",
        "\n",
        "We’ll start with a simple custom CNN model. Later, we can improve it or use pretrained models like ResNet."
      ]
    },
    {
      "cell_type": "code",
      "execution_count": 34,
      "metadata": {
        "id": "7TtQXTZouFAR"
      },
      "outputs": [],
      "source": [
        "from torchvision import models\n",
        "import torch.nn as nn\n",
        "\n",
        "class ResNetFER(nn.Module):\n",
        "    def __init__(self):\n",
        "        super(ResNetFER, self).__init__()\n",
        "        self.model = models.resnet18(pretrained=True)  # keep pretrained weights\n",
        "        self.model.fc = nn.Linear(self.model.fc.in_features, 7)  # 7 emotions\n",
        "\n",
        "    def forward(self, x):\n",
        "        return self.model(x)\n"
      ]
    },
    {
      "cell_type": "markdown",
      "metadata": {
        "id": "u5oFm5QVugAJ"
      },
      "source": [
        "**Step 8: Define Loss, Optimizer, and Move Model to GPU**"
      ]
    },
    {
      "cell_type": "code",
      "execution_count": 35,
      "metadata": {
        "colab": {
          "base_uri": "https://localhost:8080/"
        },
        "id": "L5moKWsiuhim",
        "outputId": "3abc4ce0-6dba-4f39-9cc9-cb3ab5c9bb85"
      },
      "outputs": [
        {
          "output_type": "stream",
          "name": "stderr",
          "text": [
            "/usr/local/lib/python3.11/dist-packages/torchvision/models/_utils.py:208: UserWarning: The parameter 'pretrained' is deprecated since 0.13 and may be removed in the future, please use 'weights' instead.\n",
            "  warnings.warn(\n",
            "/usr/local/lib/python3.11/dist-packages/torchvision/models/_utils.py:223: UserWarning: Arguments other than a weight enum or `None` for 'weights' are deprecated since 0.13 and may be removed in the future. The current behavior is equivalent to passing `weights=ResNet18_Weights.IMAGENET1K_V1`. You can also use `weights=ResNet18_Weights.DEFAULT` to get the most up-to-date weights.\n",
            "  warnings.warn(msg)\n"
          ]
        }
      ],
      "source": [
        "# ✅ Step 8: Model setup, optimizer, loss, scheduler, early stopping\n",
        "\n",
        "device = torch.device(\"cuda\" if torch.cuda.is_available() else \"cpu\")\n",
        "\n",
        "model = ResNetFER().to(device)\n",
        "\n",
        "# 🔧 Enable cuDNN auto-tuner for faster training on GPU\n",
        "torch.backends.cudnn.benchmark = True\n",
        "\n",
        "# 🔒 Freeze all pretrained layers\n",
        "for param in model.model.parameters():\n",
        "    param.requires_grad = False\n",
        "\n",
        "# 🔓 Unfreeze deeper layers for fine-tuning\n",
        "for param in model.model.layer3.parameters():\n",
        "    param.requires_grad = True\n",
        "for param in model.model.layer4.parameters():\n",
        "    param.requires_grad = True\n",
        "for param in model.model.fc.parameters():\n",
        "    param.requires_grad = True\n",
        "\n",
        "# ✅ Optimizer & Loss\n",
        "optimizer = torch.optim.AdamW(\n",
        "    filter(lambda p: p.requires_grad, model.parameters()),\n",
        "    lr=1e-4, weight_decay=1e-4\n",
        ")\n",
        "\n",
        "criterion = nn.CrossEntropyLoss(label_smoothing=0.1)  # Optional but helps\n",
        "\n",
        "# ✅ Learning rate scheduler\n",
        "scheduler = torch.optim.lr_scheduler.ReduceLROnPlateau(\n",
        "    optimizer, mode='max', factor=0.5, patience=2\n",
        ")\n",
        "\n",
        "# ✅ Early stopping config\n",
        "best_val_acc = 0.0\n",
        "patience = 5\n",
        "patience_counter = 0\n",
        "best_model_state = None\n"
      ]
    },
    {
      "cell_type": "markdown",
      "metadata": {
        "id": "mHahLlczurSc"
      },
      "source": [
        "**Step 9: Train the Model**\n",
        "\n",
        "Let’s train for 10 epochs and monitor loss and accuracy."
      ]
    },
    {
      "cell_type": "code",
      "execution_count": 36,
      "metadata": {
        "colab": {
          "base_uri": "https://localhost:8080/"
        },
        "id": "1evJHiK8ujjl",
        "outputId": "b99c20a5-2188-4009-99f2-b9c36d78c2d0"
      },
      "outputs": [
        {
          "output_type": "stream",
          "name": "stderr",
          "text": [
            "Epoch 1/25: 100%|██████████| 57/57 [02:11<00:00,  2.30s/it]\n"
          ]
        },
        {
          "output_type": "stream",
          "name": "stdout",
          "text": [
            "Epoch 1, Train Loss: 74.0650, Train Acc: 52.67%, Val Loss: 8.3179, Val Acc: 53.62%\n"
          ]
        },
        {
          "output_type": "stream",
          "name": "stderr",
          "text": [
            "Epoch 2/25: 100%|██████████| 57/57 [02:10<00:00,  2.30s/it]\n"
          ]
        },
        {
          "output_type": "stream",
          "name": "stdout",
          "text": [
            "Epoch 2, Train Loss: 63.7347, Train Acc: 58.33%, Val Loss: 8.4049, Val Acc: 55.38%\n"
          ]
        },
        {
          "output_type": "stream",
          "name": "stderr",
          "text": [
            "Epoch 3/25: 100%|██████████| 57/57 [02:09<00:00,  2.27s/it]\n"
          ]
        },
        {
          "output_type": "stream",
          "name": "stdout",
          "text": [
            "Epoch 3, Train Loss: 60.7051, Train Acc: 62.12%, Val Loss: 7.8191, Val Acc: 58.75%\n"
          ]
        },
        {
          "output_type": "stream",
          "name": "stderr",
          "text": [
            "Epoch 4/25: 100%|██████████| 57/57 [02:11<00:00,  2.30s/it]\n"
          ]
        },
        {
          "output_type": "stream",
          "name": "stdout",
          "text": [
            "Epoch 4, Train Loss: 60.4162, Train Acc: 63.50%, Val Loss: 7.8746, Val Acc: 58.75%\n"
          ]
        },
        {
          "output_type": "stream",
          "name": "stderr",
          "text": [
            "Epoch 5/25: 100%|██████████| 57/57 [02:10<00:00,  2.30s/it]\n"
          ]
        },
        {
          "output_type": "stream",
          "name": "stdout",
          "text": [
            "Epoch 5, Train Loss: 58.4958, Train Acc: 65.60%, Val Loss: 7.3783, Val Acc: 61.62%\n"
          ]
        },
        {
          "output_type": "stream",
          "name": "stderr",
          "text": [
            "Epoch 6/25: 100%|██████████| 57/57 [02:10<00:00,  2.29s/it]\n"
          ]
        },
        {
          "output_type": "stream",
          "name": "stdout",
          "text": [
            "Epoch 6, Train Loss: 57.3087, Train Acc: 67.61%, Val Loss: 7.4086, Val Acc: 62.62%\n"
          ]
        },
        {
          "output_type": "stream",
          "name": "stderr",
          "text": [
            "Epoch 7/25: 100%|██████████| 57/57 [02:10<00:00,  2.29s/it]\n"
          ]
        },
        {
          "output_type": "stream",
          "name": "stdout",
          "text": [
            "Epoch 7, Train Loss: 55.5965, Train Acc: 69.43%, Val Loss: 7.2591, Val Acc: 64.50%\n"
          ]
        },
        {
          "output_type": "stream",
          "name": "stderr",
          "text": [
            "Epoch 8/25: 100%|██████████| 57/57 [02:09<00:00,  2.27s/it]\n"
          ]
        },
        {
          "output_type": "stream",
          "name": "stdout",
          "text": [
            "Epoch 8, Train Loss: 55.5497, Train Acc: 70.24%, Val Loss: 7.4729, Val Acc: 63.12%\n"
          ]
        },
        {
          "output_type": "stream",
          "name": "stderr",
          "text": [
            "Epoch 9/25: 100%|██████████| 57/57 [02:10<00:00,  2.29s/it]\n"
          ]
        },
        {
          "output_type": "stream",
          "name": "stdout",
          "text": [
            "Epoch 9, Train Loss: 53.7736, Train Acc: 71.58%, Val Loss: 7.3397, Val Acc: 63.88%\n"
          ]
        },
        {
          "output_type": "stream",
          "name": "stderr",
          "text": [
            "Epoch 10/25: 100%|██████████| 57/57 [02:10<00:00,  2.30s/it]\n"
          ]
        },
        {
          "output_type": "stream",
          "name": "stdout",
          "text": [
            "Epoch 10, Train Loss: 52.9072, Train Acc: 73.00%, Val Loss: 7.2811, Val Acc: 64.62%\n"
          ]
        },
        {
          "output_type": "stream",
          "name": "stderr",
          "text": [
            "Epoch 11/25: 100%|██████████| 57/57 [02:11<00:00,  2.30s/it]\n"
          ]
        },
        {
          "output_type": "stream",
          "name": "stdout",
          "text": [
            "Epoch 11, Train Loss: 51.8158, Train Acc: 73.97%, Val Loss: 7.1648, Val Acc: 65.38%\n"
          ]
        },
        {
          "output_type": "stream",
          "name": "stderr",
          "text": [
            "Epoch 12/25: 100%|██████████| 57/57 [02:11<00:00,  2.31s/it]\n"
          ]
        },
        {
          "output_type": "stream",
          "name": "stdout",
          "text": [
            "Epoch 12, Train Loss: 50.8187, Train Acc: 75.18%, Val Loss: 7.2439, Val Acc: 64.62%\n"
          ]
        },
        {
          "output_type": "stream",
          "name": "stderr",
          "text": [
            "Epoch 13/25: 100%|██████████| 57/57 [02:10<00:00,  2.30s/it]\n"
          ]
        },
        {
          "output_type": "stream",
          "name": "stdout",
          "text": [
            "Epoch 13, Train Loss: 50.0332, Train Acc: 76.39%, Val Loss: 7.1865, Val Acc: 65.75%\n"
          ]
        },
        {
          "output_type": "stream",
          "name": "stderr",
          "text": [
            "Epoch 14/25: 100%|██████████| 57/57 [02:10<00:00,  2.30s/it]\n"
          ]
        },
        {
          "output_type": "stream",
          "name": "stdout",
          "text": [
            "Epoch 14, Train Loss: 49.2122, Train Acc: 77.50%, Val Loss: 7.1900, Val Acc: 67.38%\n"
          ]
        },
        {
          "output_type": "stream",
          "name": "stderr",
          "text": [
            "Epoch 15/25: 100%|██████████| 57/57 [02:10<00:00,  2.29s/it]\n"
          ]
        },
        {
          "output_type": "stream",
          "name": "stdout",
          "text": [
            "Epoch 15, Train Loss: 48.7214, Train Acc: 77.97%, Val Loss: 7.1776, Val Acc: 66.12%\n"
          ]
        },
        {
          "output_type": "stream",
          "name": "stderr",
          "text": [
            "Epoch 16/25: 100%|██████████| 57/57 [02:09<00:00,  2.27s/it]\n"
          ]
        },
        {
          "output_type": "stream",
          "name": "stdout",
          "text": [
            "Epoch 16, Train Loss: 47.5888, Train Acc: 79.21%, Val Loss: 7.2133, Val Acc: 67.38%\n"
          ]
        },
        {
          "output_type": "stream",
          "name": "stderr",
          "text": [
            "Epoch 17/25: 100%|██████████| 57/57 [02:09<00:00,  2.27s/it]\n"
          ]
        },
        {
          "output_type": "stream",
          "name": "stdout",
          "text": [
            "Epoch 17, Train Loss: 47.4789, Train Acc: 79.56%, Val Loss: 6.9787, Val Acc: 70.25%\n"
          ]
        },
        {
          "output_type": "stream",
          "name": "stderr",
          "text": [
            "Epoch 18/25: 100%|██████████| 57/57 [02:10<00:00,  2.29s/it]\n"
          ]
        },
        {
          "output_type": "stream",
          "name": "stdout",
          "text": [
            "Epoch 18, Train Loss: 46.0112, Train Acc: 80.99%, Val Loss: 7.2565, Val Acc: 70.50%\n"
          ]
        },
        {
          "output_type": "stream",
          "name": "stderr",
          "text": [
            "Epoch 19/25: 100%|██████████| 57/57 [02:11<00:00,  2.31s/it]\n"
          ]
        },
        {
          "output_type": "stream",
          "name": "stdout",
          "text": [
            "Epoch 19, Train Loss: 45.7778, Train Acc: 81.39%, Val Loss: 7.1322, Val Acc: 69.88%\n"
          ]
        },
        {
          "output_type": "stream",
          "name": "stderr",
          "text": [
            "Epoch 20/25: 100%|██████████| 57/57 [02:10<00:00,  2.30s/it]\n"
          ]
        },
        {
          "output_type": "stream",
          "name": "stdout",
          "text": [
            "Epoch 20, Train Loss: 44.6861, Train Acc: 81.97%, Val Loss: 7.2921, Val Acc: 70.00%\n"
          ]
        },
        {
          "output_type": "stream",
          "name": "stderr",
          "text": [
            "Epoch 21/25: 100%|██████████| 57/57 [02:11<00:00,  2.30s/it]\n"
          ]
        },
        {
          "output_type": "stream",
          "name": "stdout",
          "text": [
            "Epoch 21, Train Loss: 44.8906, Train Acc: 81.99%, Val Loss: 7.1465, Val Acc: 67.62%\n"
          ]
        },
        {
          "output_type": "stream",
          "name": "stderr",
          "text": [
            "Epoch 22/25: 100%|██████████| 57/57 [02:10<00:00,  2.29s/it]\n"
          ]
        },
        {
          "output_type": "stream",
          "name": "stdout",
          "text": [
            "Epoch 22, Train Loss: 42.6001, Train Acc: 84.69%, Val Loss: 6.8154, Val Acc: 71.25%\n"
          ]
        },
        {
          "output_type": "stream",
          "name": "stderr",
          "text": [
            "Epoch 23/25: 100%|██████████| 57/57 [02:10<00:00,  2.30s/it]\n"
          ]
        },
        {
          "output_type": "stream",
          "name": "stdout",
          "text": [
            "Epoch 23, Train Loss: 41.4831, Train Acc: 86.11%, Val Loss: 7.1466, Val Acc: 70.75%\n"
          ]
        },
        {
          "output_type": "stream",
          "name": "stderr",
          "text": [
            "Epoch 24/25: 100%|██████████| 57/57 [02:11<00:00,  2.30s/it]\n"
          ]
        },
        {
          "output_type": "stream",
          "name": "stdout",
          "text": [
            "Epoch 24, Train Loss: 41.5544, Train Acc: 85.83%, Val Loss: 7.1429, Val Acc: 66.50%\n"
          ]
        },
        {
          "output_type": "stream",
          "name": "stderr",
          "text": [
            "Epoch 25/25: 100%|██████████| 57/57 [02:11<00:00,  2.30s/it]\n"
          ]
        },
        {
          "output_type": "stream",
          "name": "stdout",
          "text": [
            "Epoch 25, Train Loss: 41.2650, Train Acc: 86.31%, Val Loss: 6.8772, Val Acc: 70.50%\n",
            "✅ Best model restored with val accuracy: 71.25%\n"
          ]
        }
      ],
      "source": [
        "from tqdm import tqdm\n",
        "\n",
        "epochs = 25\n",
        "for epoch in range(epochs):\n",
        "    model.train()\n",
        "    running_loss = 0.0\n",
        "    correct = 0\n",
        "    total = 0\n",
        "\n",
        "    for images, labels in tqdm(train_loader, desc=f\"Epoch {epoch+1}/{epochs}\"):\n",
        "        images, labels = images.to(device), labels.to(device)\n",
        "\n",
        "        optimizer.zero_grad()\n",
        "        outputs = model(images)\n",
        "        loss = criterion(outputs, labels)\n",
        "        loss.backward()\n",
        "        optimizer.step()\n",
        "\n",
        "        running_loss += loss.item()\n",
        "        _, predicted = torch.max(outputs, 1)\n",
        "        total += labels.size(0)\n",
        "        correct += (predicted == labels).sum().item()\n",
        "\n",
        "    train_acc = 100 * correct / total\n",
        "\n",
        "    # === VALIDATION ===\n",
        "    model.eval()\n",
        "    val_correct = 0\n",
        "    val_total = 0\n",
        "    val_loss = 0.0\n",
        "    with torch.no_grad():\n",
        "        for images, labels in val_loader:\n",
        "            images, labels = images.to(device), labels.to(device)\n",
        "            outputs = model(images)\n",
        "            loss = criterion(outputs, labels)\n",
        "\n",
        "            val_loss += loss.item()\n",
        "            _, predicted = torch.max(outputs, 1)\n",
        "            val_total += labels.size(0)\n",
        "            val_correct += (predicted == labels).sum().item()\n",
        "\n",
        "    val_acc = 100 * val_correct / val_total\n",
        "    scheduler.step(val_acc)\n",
        "\n",
        "    print(f\"Epoch {epoch+1}, \"\n",
        "          f\"Train Loss: {running_loss:.4f}, Train Acc: {train_acc:.2f}%, \"\n",
        "          f\"Val Loss: {val_loss:.4f}, Val Acc: {val_acc:.2f}%\")\n",
        "\n",
        "    # === EARLY STOPPING ===\n",
        "    if val_acc > best_val_acc:\n",
        "        best_val_acc = val_acc\n",
        "        best_model_state = model.state_dict()\n",
        "        patience_counter = 0\n",
        "    else:\n",
        "        patience_counter += 1\n",
        "        if patience_counter >= patience:\n",
        "            print(f\"🔥 Early stopping triggered at epoch {epoch+1}\")\n",
        "            break\n",
        "\n",
        "# Restore the best model\n",
        "if best_model_state:\n",
        "    model.load_state_dict(best_model_state)\n",
        "    print(f\"✅ Best model restored with val accuracy: {best_val_acc:.2f}%\")\n"
      ]
    }
  ],
  "metadata": {
    "colab": {
      "provenance": [],
      "authorship_tag": "ABX9TyNA9VvMZS8/pPIeBAMG3HD3",
      "include_colab_link": true
    },
    "kernelspec": {
      "display_name": "Python 3",
      "name": "python3"
    },
    "language_info": {
      "name": "python"
    }
  },
  "nbformat": 4,
  "nbformat_minor": 0
}