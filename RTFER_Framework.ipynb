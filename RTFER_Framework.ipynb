{
  "cells": [
    {
      "cell_type": "markdown",
      "metadata": {
        "id": "view-in-github",
        "colab_type": "text"
      },
      "source": [
        "<a href=\"https://colab.research.google.com/github/Rafi076/RTFER_Framework/blob/main/RTFER_Framework.ipynb\" target=\"_parent\"><img src=\"https://colab.research.google.com/assets/colab-badge.svg\" alt=\"Open In Colab\"/></a>"
      ]
    },
    {
      "cell_type": "code",
      "execution_count": 1,
      "metadata": {
        "colab": {
          "base_uri": "https://localhost:8080/"
        },
        "id": "0Twl0pdXJbpH",
        "outputId": "b7bd49ab-8acb-48cf-dabf-b0d04ae9d3ee"
      },
      "outputs": [
        {
          "output_type": "stream",
          "name": "stdout",
          "text": [
            "Cloning into 'RTFER_Framework'...\n",
            "remote: Enumerating objects: 12, done.\u001b[K\n",
            "remote: Counting objects: 100% (12/12), done.\u001b[K\n",
            "remote: Compressing objects: 100% (11/11), done.\u001b[K\n",
            "remote: Total 12 (delta 4), reused 3 (delta 0), pack-reused 0 (from 0)\u001b[K\n",
            "Receiving objects: 100% (12/12), 41.32 KiB | 3.18 MiB/s, done.\n",
            "Resolving deltas: 100% (4/4), done.\n"
          ]
        }
      ],
      "source": [
        "!git clone https://github.com/Rafi076/RTFER_Framework.git"
      ]
    },
    {
      "cell_type": "code",
      "execution_count": 2,
      "metadata": {
        "colab": {
          "base_uri": "https://localhost:8080/"
        },
        "id": "AJLVzvdEnc2z",
        "outputId": "3c466b85-d415-4c3f-a26e-0dc1f2b65f76"
      },
      "outputs": [
        {
          "output_type": "stream",
          "name": "stdout",
          "text": [
            "Mounted at /content/drive\n"
          ]
        }
      ],
      "source": [
        "# STEP 1: Mount Google Drive\n",
        "from google.colab import drive\n",
        "drive.mount('/content/drive')\n"
      ]
    },
    {
      "cell_type": "code",
      "execution_count": 3,
      "metadata": {
        "colab": {
          "base_uri": "https://localhost:8080/"
        },
        "id": "uLNCsctEnqHJ",
        "outputId": "9df46cba-b428-4b48-ee2c-3d95e63a0ae1"
      },
      "outputs": [
        {
          "output_type": "stream",
          "name": "stdout",
          "text": [
            "✅ Unzipped successfully!\n"
          ]
        }
      ],
      "source": [
        "# STEP 2: Correct zip path (case-sensitive, and spelling checked)\n",
        "zip_path = '/content/drive/MyDrive/RTFER_Framwork/FER-2013.zip'\n",
        "extract_to = '/content'  # Since zip already has a folder inside, extract to /content\n",
        "\n",
        "# STEP 3: Unzip\n",
        "import zipfile, os\n",
        "\n",
        "with zipfile.ZipFile(zip_path, 'r') as zip_ref:\n",
        "    zip_ref.extractall(extract_to)\n",
        "\n",
        "print(\"✅ Unzipped successfully!\")\n"
      ]
    },
    {
      "cell_type": "code",
      "execution_count": 4,
      "metadata": {
        "colab": {
          "base_uri": "https://localhost:8080/"
        },
        "id": "vw8mNbcQovLs",
        "outputId": "3c31fb41-f321-4f0e-cc78-b1e2a0036e7a"
      },
      "outputs": [
        {
          "output_type": "stream",
          "name": "stdout",
          "text": [
            "test  train\n"
          ]
        }
      ],
      "source": [
        "# Show contents of the extracted folder\n",
        "!ls \"/content/FER-2013\""
      ]
    },
    {
      "cell_type": "markdown",
      "metadata": {
        "id": "FjPMaYUGqwYU"
      },
      "source": [
        "**Step 3: Import Libraries**"
      ]
    },
    {
      "cell_type": "code",
      "execution_count": 5,
      "metadata": {
        "id": "UFZ4NycMpiTT"
      },
      "outputs": [],
      "source": [
        "import os\n",
        "import numpy as np\n",
        "import matplotlib.pyplot as plt\n",
        "import seaborn as sns\n",
        "from PIL import Image\n",
        "from tqdm import tqdm\n",
        "import torch\n",
        "import torch.nn as nn\n",
        "from torchvision import transforms, datasets, models\n",
        "from torch.utils.data import DataLoader\n",
        "from sklearn.metrics import classification_report, confusion_matrix\n"
      ]
    },
    {
      "cell_type": "markdown",
      "metadata": {
        "id": "qtf7lGdpr_7o"
      },
      "source": [
        "**Step 4: Define Transforms for Data Augmentation**"
      ]
    },
    {
      "cell_type": "code",
      "execution_count": 6,
      "metadata": {
        "id": "O1nGqjVuqjak"
      },
      "outputs": [],
      "source": [
        "# Step 4 - Updated Transforms\n",
        "train_transforms = transforms.Compose([\n",
        "    transforms.Grayscale(num_output_channels=3),  # convert grayscale to 3 channels\n",
        "    transforms.Resize((224, 224)),                # match ResNet input size\n",
        "    transforms.RandomHorizontalFlip(),\n",
        "    transforms.RandomRotation(20),\n",
        "    transforms.ToTensor(),\n",
        "    transforms.Normalize(mean=[0.485, 0.456, 0.406],   # ImageNet mean\n",
        "                         std=[0.229, 0.224, 0.225])    # ImageNet std\n",
        "])\n",
        "\n",
        "test_transforms = transforms.Compose([\n",
        "    transforms.Grayscale(num_output_channels=3),\n",
        "    transforms.Resize((224, 224)),\n",
        "    transforms.ToTensor(),\n",
        "    transforms.Normalize(mean=[0.485, 0.456, 0.406],\n",
        "                         std=[0.229, 0.224, 0.225])\n",
        "])\n"
      ]
    },
    {
      "cell_type": "markdown",
      "metadata": {
        "id": "YqbKXt_hsdYV"
      },
      "source": [
        "**Step 5: Load the Dataset**\n",
        "\n",
        "We load images using ImageFolder."
      ]
    },
    {
      "cell_type": "code",
      "execution_count": 7,
      "metadata": {
        "colab": {
          "base_uri": "https://localhost:8080/"
        },
        "id": "aJShm4HdsnQh",
        "outputId": "737a77a3-b3ca-4417-d1af-2357d3e0d090"
      },
      "outputs": [
        {
          "output_type": "stream",
          "name": "stdout",
          "text": [
            "Classes: ['angry', 'disgust', 'fear', 'happy', 'neutral', 'sad', 'surprise']\n"
          ]
        }
      ],
      "source": [
        "train_dir = \"/content/FER-2013/train\"\n",
        "test_dir = \"/content/FER-2013/test\"\n",
        "\n",
        "train_data = datasets.ImageFolder(root=train_dir, transform=train_transforms)\n",
        "test_data = datasets.ImageFolder(root=test_dir, transform=test_transforms)\n",
        "\n",
        "train_loader = DataLoader(train_data, batch_size=64, shuffle=True)\n",
        "test_loader = DataLoader(test_data, batch_size=64, shuffle=False)\n",
        "\n",
        "class_names = train_data.classes\n",
        "print(\"Classes:\", class_names)\n"
      ]
    },
    {
      "cell_type": "code",
      "execution_count": 8,
      "metadata": {
        "id": "gb8YwmPSC3gV"
      },
      "outputs": [],
      "source": [
        "from torch.utils.data import Subset, DataLoader\n",
        "import numpy as np\n",
        "\n",
        "# Split train_dataset into train and validation\n",
        "val_percent = 0.1  # 10% for validation\n",
        "num_val = int(len(train_data) * val_percent)\n",
        "indices = np.random.permutation(len(train_data))\n",
        "\n",
        "val_indices = indices[:num_val]\n",
        "train_indices = indices[num_val:]\n",
        "\n",
        "train_subset = Subset(train_data, train_indices)\n",
        "val_subset = Subset(train_data, val_indices)\n",
        "\n",
        "train_loader = DataLoader(train_subset, batch_size=64, shuffle=True, num_workers=2, pin_memory=True)\n",
        "val_loader = DataLoader(val_subset, batch_size=64, shuffle=False, num_workers=2, pin_memory=True)\n"
      ]
    },
    {
      "cell_type": "markdown",
      "metadata": {
        "id": "ryo5sNRKtJL8"
      },
      "source": [
        "**Step 6: Visualize Sample Images**\n",
        "\n",
        "Before training, let’s confirm that the images and labels are loading correctly:"
      ]
    },
    {
      "cell_type": "code",
      "execution_count": 9,
      "metadata": {
        "colab": {
          "base_uri": "https://localhost:8080/",
          "height": 136
        },
        "id": "VTRj1H8stNgp",
        "outputId": "41da947c-4bab-4eb0-f94b-a63d749f898c"
      },
      "outputs": [
        {
          "output_type": "stream",
          "name": "stderr",
          "text": [
            "WARNING:matplotlib.image:Clipping input data to the valid range for imshow with RGB data ([0..1] for floats or [0..255] for integers). Got range [-0.558952..1.82].\n"
          ]
        },
        {
          "output_type": "display_data",
          "data": {
            "text/plain": [
              "<Figure size 640x480 with 1 Axes>"
            ],
            "image/png": "[encoded data removed]"
          },
          "metadata": {}
        },
        {
          "output_type": "stream",
          "name": "stdout",
          "text": [
            "sad happy sad happy sad angry surprise happy\n"
          ]
        }
      ],
      "source": [
        "import torch\n",
        "import torchvision\n",
        "import matplotlib.pyplot as plt\n",
        "import numpy as np\n",
        "\n",
        "# Helper function to show image\n",
        "def imshow(img):\n",
        "    img = img / 2 + 0.5  # unnormalize\n",
        "    npimg = img.numpy()\n",
        "    plt.imshow(np.transpose(npimg, (1, 2, 0)))\n",
        "    plt.axis('off')\n",
        "    plt.show()\n",
        "\n",
        "# Get a batch of training data\n",
        "dataiter = iter(train_loader)\n",
        "images, labels = next(dataiter)\n",
        "\n",
        "# Show images\n",
        "imshow(torchvision.utils.make_grid(images[:8]))\n",
        "# Show labels\n",
        "print(' '.join(f'{class_names[labels[j]]}' for j in range(8)))\n"
      ]
    },
    {
      "cell_type": "markdown",
      "metadata": {
        "id": "5Xd8LydruAZU"
      },
      "source": [
        "**Step 7: Build the CNN Model**\n",
        "\n",
        "We’ll start with a simple custom CNN model. Later, we can improve it or use pretrained models like ResNet."
      ]
    },
    {
      "cell_type": "code",
      "execution_count": 10,
      "metadata": {
        "id": "7TtQXTZouFAR"
      },
      "outputs": [],
      "source": [
        "from torchvision import models\n",
        "import torch.nn as nn\n",
        "\n",
        "class ResNetFER(nn.Module):\n",
        "    def __init__(self):\n",
        "        super(ResNetFER, self).__init__()\n",
        "        self.model = models.resnet18(pretrained=True)  # keep pretrained weights\n",
        "        self.model.fc = nn.Linear(self.model.fc.in_features, 7)  # 7 emotions\n",
        "\n",
        "    def forward(self, x):\n",
        "        return self.model(x)\n"
      ]
    },
    {
      "cell_type": "markdown",
      "metadata": {
        "id": "u5oFm5QVugAJ"
      },
      "source": [
        "**Step 8: Define Loss, Optimizer, and Move Model to GPU**"
      ]
    },
    {
      "cell_type": "code",
      "execution_count": 11,
      "metadata": {
        "colab": {
          "base_uri": "https://localhost:8080/"
        },
        "id": "L5moKWsiuhim",
        "outputId": "bcce5ec5-2136-48fa-c224-c37ce49dba12"
      },
      "outputs": [
        {
          "output_type": "stream",
          "name": "stderr",
          "text": [
            "/usr/local/lib/python3.11/dist-packages/torchvision/models/_utils.py:208: UserWarning: The parameter 'pretrained' is deprecated since 0.13 and may be removed in the future, please use 'weights' instead.\n",
            "  warnings.warn(\n",
            "/usr/local/lib/python3.11/dist-packages/torchvision/models/_utils.py:223: UserWarning: Arguments other than a weight enum or `None` for 'weights' are deprecated since 0.13 and may be removed in the future. The current behavior is equivalent to passing `weights=ResNet18_Weights.IMAGENET1K_V1`. You can also use `weights=ResNet18_Weights.DEFAULT` to get the most up-to-date weights.\n",
            "  warnings.warn(msg)\n",
            "Downloading: \"https://download.pytorch.org/models/resnet18-f37072fd.pth\" to /root/.cache/torch/hub/checkpoints/resnet18-f37072fd.pth\n",
            "100%|██████████| 44.7M/44.7M [00:00<00:00, 101MB/s]\n"
          ]
        }
      ],
      "source": [
        "# ✅ Step 8: Model setup, optimizer, loss, scheduler, early stopping\n",
        "\n",
        "device = torch.device(\"cuda\" if torch.cuda.is_available() else \"cpu\")\n",
        "\n",
        "model = ResNetFER().to(device)\n",
        "\n",
        "# 🔧 Enable cuDNN auto-tuner for faster training on GPU\n",
        "torch.backends.cudnn.benchmark = True\n",
        "\n",
        "# 🔒 Freeze all pretrained layers\n",
        "for param in model.model.parameters():\n",
        "    param.requires_grad = False\n",
        "\n",
        "# 🔓 Unfreeze the last layer/block for fine-tuning\n",
        "for param in model.model.layer4.parameters():\n",
        "    param.requires_grad = True\n",
        "for param in model.model.fc.parameters():\n",
        "    param.requires_grad = True\n",
        "\n",
        "# ✅ Optimizer & Loss\n",
        "optimizer = torch.optim.AdamW(\n",
        "    filter(lambda p: p.requires_grad, model.parameters()),\n",
        "    lr=1e-4, weight_decay=1e-4\n",
        ")\n",
        "\n",
        "criterion = nn.CrossEntropyLoss()\n",
        "\n",
        "# ✅ Learning rate scheduler\n",
        "scheduler = torch.optim.lr_scheduler.ReduceLROnPlateau(\n",
        "    optimizer, mode='max', factor=0.5, patience=2\n",
        ")\n",
        "\n",
        "# ✅ Early stopping config\n",
        "best_val_acc = 0.0\n",
        "patience = 4\n",
        "patience_counter = 0\n",
        "best_model_state = None\n"
      ]
    },
    {
      "cell_type": "markdown",
      "metadata": {
        "id": "mHahLlczurSc"
      },
      "source": [
        "**Step 9: Train the Model**\n",
        "\n",
        "Let’s train for 10 epochs and monitor loss and accuracy."
      ]
    },
    {
      "cell_type": "code",
      "execution_count": null,
      "metadata": {
        "colab": {
          "base_uri": "https://localhost:8080/"
        },
        "id": "1evJHiK8ujjl",
        "outputId": "74803e6f-e46e-4c9c-c995-401f37700370"
      },
      "outputs": [
        {
          "output_type": "stream",
          "name": "stderr",
          "text": [
            "Epoch 1/20: 100%|██████████| 404/404 [1:10:50<00:00, 10.52s/it]\n"
          ]
        },
        {
          "output_type": "stream",
          "name": "stdout",
          "text": [
            "Epoch 1, Train Loss: 520.6873, Train Acc: 51.17%, Val Loss: 52.6930, Val Acc: 56.97%\n"
          ]
        },
        {
          "output_type": "stream",
          "name": "stderr",
          "text": [
            "Epoch 2/20: 100%|██████████| 404/404 [1:09:43<00:00, 10.36s/it]\n"
          ]
        },
        {
          "output_type": "stream",
          "name": "stdout",
          "text": [
            "Epoch 2, Train Loss: 430.2095, Train Acc: 60.10%, Val Loss: 49.5496, Val Acc: 58.64%\n"
          ]
        },
        {
          "output_type": "stream",
          "name": "stderr",
          "text": [
            "Epoch 3/20: 100%|██████████| 404/404 [1:09:30<00:00, 10.32s/it]\n"
          ]
        },
        {
          "output_type": "stream",
          "name": "stdout",
          "text": [
            "Epoch 3, Train Loss: 394.5253, Train Acc: 63.51%, Val Loss: 46.9003, Val Acc: 62.20%\n"
          ]
        },
        {
          "output_type": "stream",
          "name": "stderr",
          "text": [
            "Epoch 4/20: 100%|██████████| 404/404 [1:09:45<00:00, 10.36s/it]\n"
          ]
        },
        {
          "output_type": "stream",
          "name": "stdout",
          "text": [
            "Epoch 4, Train Loss: 366.3061, Train Acc: 66.24%, Val Loss: 46.7785, Val Acc: 61.36%\n"
          ]
        },
        {
          "output_type": "stream",
          "name": "stderr",
          "text": [
            "Epoch 5/20: 100%|██████████| 404/404 [1:09:57<00:00, 10.39s/it]\n"
          ]
        },
        {
          "output_type": "stream",
          "name": "stdout",
          "text": [
            "Epoch 5, Train Loss: 341.0449, Train Acc: 68.52%, Val Loss: 46.9016, Val Acc: 61.11%\n"
          ]
        },
        {
          "output_type": "stream",
          "name": "stderr",
          "text": [
            "Epoch 6/20: 100%|██████████| 404/404 [1:10:06<00:00, 10.41s/it]\n"
          ]
        },
        {
          "output_type": "stream",
          "name": "stdout",
          "text": [
            "Epoch 6, Train Loss: 318.3831, Train Acc: 70.87%, Val Loss: 45.8486, Val Acc: 62.82%\n"
          ]
        },
        {
          "output_type": "stream",
          "name": "stderr",
          "text": [
            "Epoch 7/20: 100%|██████████| 404/404 [1:10:50<00:00, 10.52s/it]\n"
          ]
        },
        {
          "output_type": "stream",
          "name": "stdout",
          "text": [
            "Epoch 7, Train Loss: 296.7180, Train Acc: 73.06%, Val Loss: 46.1901, Val Acc: 64.29%\n"
          ]
        },
        {
          "output_type": "stream",
          "name": "stderr",
          "text": [
            "Epoch 8/20: 100%|██████████| 404/404 [1:09:19<00:00, 10.30s/it]\n"
          ]
        },
        {
          "output_type": "stream",
          "name": "stdout",
          "text": [
            "Epoch 8, Train Loss: 272.3431, Train Acc: 75.60%, Val Loss: 49.0675, Val Acc: 62.61%\n"
          ]
        },
        {
          "output_type": "stream",
          "name": "stderr",
          "text": [
            "Epoch 9/20: 100%|██████████| 404/404 [1:08:45<00:00, 10.21s/it]\n"
          ]
        },
        {
          "output_type": "stream",
          "name": "stdout",
          "text": [
            "Epoch 9, Train Loss: 251.3353, Train Acc: 77.27%, Val Loss: 49.3847, Val Acc: 63.38%\n"
          ]
        },
        {
          "output_type": "stream",
          "name": "stderr",
          "text": [
            "Epoch 10/20:  62%|██████▏   | 251/404 [42:49<26:21, 10.34s/it]"
          ]
        }
      ],
      "source": [
        "from tqdm import tqdm\n",
        "\n",
        "epochs = 20\n",
        "for epoch in range(epochs):\n",
        "    model.train()\n",
        "    running_loss = 0.0\n",
        "    correct = 0\n",
        "    total = 0\n",
        "\n",
        "    for images, labels in tqdm(train_loader, desc=f\"Epoch {epoch+1}/{epochs}\"):\n",
        "        images, labels = images.to(device), labels.to(device)\n",
        "\n",
        "        optimizer.zero_grad()\n",
        "        outputs = model(images)\n",
        "        loss = criterion(outputs, labels)\n",
        "        loss.backward()\n",
        "        optimizer.step()\n",
        "\n",
        "        running_loss += loss.item()\n",
        "        _, predicted = torch.max(outputs, 1)\n",
        "        total += labels.size(0)\n",
        "        correct += (predicted == labels).sum().item()\n",
        "\n",
        "    train_acc = 100 * correct / total\n",
        "\n",
        "    # === VALIDATION ===\n",
        "    model.eval()\n",
        "    val_correct = 0\n",
        "    val_total = 0\n",
        "    val_loss = 0.0\n",
        "    with torch.no_grad():\n",
        "        for images, labels in val_loader:\n",
        "            images, labels = images.to(device), labels.to(device)\n",
        "            outputs = model(images)\n",
        "            loss = criterion(outputs, labels)\n",
        "\n",
        "            val_loss += loss.item()\n",
        "            _, predicted = torch.max(outputs, 1)\n",
        "            val_total += labels.size(0)\n",
        "            val_correct += (predicted == labels).sum().item()\n",
        "\n",
        "    val_acc = 100 * val_correct / val_total\n",
        "    scheduler.step(val_acc)\n",
        "\n",
        "    print(f\"Epoch {epoch+1}, \"\n",
        "          f\"Train Loss: {running_loss:.4f}, Train Acc: {train_acc:.2f}%, \"\n",
        "          f\"Val Loss: {val_loss:.4f}, Val Acc: {val_acc:.2f}%\")\n",
        "\n",
        "    # === EARLY STOPPING ===\n",
        "    if val_acc > best_val_acc:\n",
        "        best_val_acc = val_acc\n",
        "        best_model_state = model.state_dict()\n",
        "        patience_counter = 0\n",
        "    else:\n",
        "        patience_counter += 1\n",
        "        if patience_counter >= patience:\n",
        "            print(f\"🔥 Early stopping triggered at epoch {epoch+1}\")\n",
        "            break\n",
        "\n",
        "# Restore the best model\n",
        "if best_model_state:\n",
        "    model.load_state_dict(best_model_state)\n",
        "    print(f\"✅ Best model restored with val accuracy: {best_val_acc:.2f}%\")\n"
      ]
    }
  ],
  "metadata": {
    "colab": {
      "provenance": [],
      "authorship_tag": "ABX9TyMjFYpmO86GEyIbbDR+StpE",
      "include_colab_link": true
    },
    "kernelspec": {
      "display_name": "Python 3",
      "name": "python3"
    },
    "language_info": {
      "name": "python"
    }
  },
  "nbformat": 4,
  "nbformat_minor": 0
}