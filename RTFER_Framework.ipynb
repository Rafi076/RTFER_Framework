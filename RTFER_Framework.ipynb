{
  "cells": [
    {
      "cell_type": "markdown",
      "metadata": {
        "id": "view-in-github",
        "colab_type": "text"
      },
      "source": [
        "<a href=\"https://colab.research.google.com/github/Rafi076/RTFER_Framework/blob/main/RTFER_Framework.ipynb\" target=\"_parent\"><img src=\"https://colab.research.google.com/assets/colab-badge.svg\" alt=\"Open In Colab\"/></a>"
      ]
    },
    {
      "cell_type": "code",
      "execution_count": 14,
      "metadata": {
        "colab": {
          "base_uri": "https://localhost:8080/"
        },
        "id": "0Twl0pdXJbpH",
        "outputId": "9dc0a730-5fb4-45fd-c1aa-18349342146d"
      },
      "outputs": [
        {
          "output_type": "stream",
          "name": "stdout",
          "text": [
            "fatal: destination path 'RTFER_Framework' already exists and is not an empty directory.\n"
          ]
        }
      ],
      "source": [
        "!git clone https://github.com/Rafi076/RTFER_Framework.git"
      ]
    },
    {
      "cell_type": "code",
      "execution_count": 15,
      "metadata": {
        "colab": {
          "base_uri": "https://localhost:8080/"
        },
        "id": "AJLVzvdEnc2z",
        "outputId": "3f3ac9d5-c34c-49f4-96ac-3a123e3a72d4"
      },
      "outputs": [
        {
          "output_type": "stream",
          "name": "stdout",
          "text": [
            "Drive already mounted at /content/drive; to attempt to forcibly remount, call drive.mount(\"/content/drive\", force_remount=True).\n"
          ]
        }
      ],
      "source": [
        "# STEP 1: Mount Google Drive\n",
        "from google.colab import drive\n",
        "drive.mount('/content/drive')\n"
      ]
    },
    {
      "cell_type": "code",
      "execution_count": 16,
      "metadata": {
        "colab": {
          "base_uri": "https://localhost:8080/"
        },
        "id": "uLNCsctEnqHJ",
        "outputId": "7d621785-b9c1-4253-f908-fa79604a5057"
      },
      "outputs": [
        {
          "output_type": "stream",
          "name": "stdout",
          "text": [
            "✅ Unzipped successfully!\n"
          ]
        }
      ],
      "source": [
        "# STEP 2: Correct zip path (case-sensitive, and spelling checked)\n",
        "zip_path = '/content/drive/MyDrive/RTFER_Framwork/FER-2013.zip'\n",
        "extract_to = '/content'  # Since zip already has a folder inside, extract to /content\n",
        "\n",
        "# STEP 3: Unzip\n",
        "import zipfile, os\n",
        "\n",
        "with zipfile.ZipFile(zip_path, 'r') as zip_ref:\n",
        "    zip_ref.extractall(extract_to)\n",
        "\n",
        "print(\"✅ Unzipped successfully!\")\n"
      ]
    },
    {
      "cell_type": "code",
      "execution_count": 17,
      "metadata": {
        "colab": {
          "base_uri": "https://localhost:8080/"
        },
        "id": "vw8mNbcQovLs",
        "outputId": "fb1789d7-ebf0-4e99-9cbc-4ec9289efb1e"
      },
      "outputs": [
        {
          "output_type": "stream",
          "name": "stdout",
          "text": [
            "test  train\n"
          ]
        }
      ],
      "source": [
        "# Show contents of the extracted folder\n",
        "!ls \"/content/FER-2013\""
      ]
    },
    {
      "cell_type": "markdown",
      "metadata": {
        "id": "FjPMaYUGqwYU"
      },
      "source": [
        "**Step 3: Import Libraries**"
      ]
    },
    {
      "cell_type": "code",
      "execution_count": 18,
      "metadata": {
        "id": "UFZ4NycMpiTT"
      },
      "outputs": [],
      "source": [
        "import os\n",
        "import numpy as np\n",
        "import matplotlib.pyplot as plt\n",
        "import seaborn as sns\n",
        "from PIL import Image\n",
        "from tqdm import tqdm\n",
        "import torch\n",
        "import torch.nn as nn\n",
        "from torchvision import transforms, datasets, models\n",
        "from torch.utils.data import DataLoader\n",
        "from sklearn.metrics import classification_report, confusion_matrix\n"
      ]
    },
    {
      "cell_type": "markdown",
      "metadata": {
        "id": "qtf7lGdpr_7o"
      },
      "source": [
        "**Step 4: Define Transforms for Data Augmentation**"
      ]
    },
    {
      "cell_type": "code",
      "execution_count": 19,
      "metadata": {
        "id": "O1nGqjVuqjak"
      },
      "outputs": [],
      "source": [
        "\n",
        "\n",
        "# ✅ Final Step 4:\n",
        "train_transforms = transforms.Compose([\n",
        "    transforms.Resize((48, 48)),\n",
        "    transforms.RandomHorizontalFlip(),\n",
        "    transforms.RandomRotation(10),\n",
        "    transforms.ToTensor(),\n",
        "    transforms.Normalize(mean=[0.5, 0.5, 0.5], std=[0.5, 0.5, 0.5])  # for 3 channels\n",
        "])\n",
        "\n",
        "test_transforms = transforms.Compose([\n",
        "    transforms.Resize((48, 48)),\n",
        "    transforms.ToTensor(),\n",
        "    transforms.Normalize(mean=[0.5, 0.5, 0.5], std=[0.5, 0.5, 0.5])  # for 3 channels\n",
        "])\n"
      ]
    },
    {
      "cell_type": "markdown",
      "metadata": {
        "id": "YqbKXt_hsdYV"
      },
      "source": [
        "**Step 5: Load the Dataset**\n",
        "\n",
        "We load images using ImageFolder."
      ]
    },
    {
      "cell_type": "code",
      "execution_count": 20,
      "metadata": {
        "colab": {
          "base_uri": "https://localhost:8080/"
        },
        "id": "aJShm4HdsnQh",
        "outputId": "a8146bce-c958-4971-c5a0-5a1129df0f25"
      },
      "outputs": [
        {
          "output_type": "stream",
          "name": "stdout",
          "text": [
            "Classes: ['angry', 'disgust', 'fear', 'happy', 'neutral', 'sad', 'surprise']\n"
          ]
        }
      ],
      "source": [
        "from torch.utils.data import Subset, DataLoader\n",
        "import numpy as np\n",
        "\n",
        "train_dir = \"/content/FER-2013/train\"\n",
        "test_dir = \"/content/FER-2013/test\"\n",
        "\n",
        "# Apply transforms\n",
        "train_data_full = datasets.ImageFolder(root=train_dir, transform=train_transforms)\n",
        "test_data = datasets.ImageFolder(root=test_dir, transform=test_transforms)\n",
        "\n",
        "# ✅ Reduce training dataset size (use 8000 samples for faster training)\n",
        "subset_size = 8000  # You can try 5000 for even faster training\n",
        "train_subset_indices = list(range(subset_size))\n",
        "train_data = Subset(train_data_full, train_subset_indices)\n",
        "\n",
        "# ✅ Class names (from full set, safe to use)\n",
        "class_names = train_data_full.classes\n",
        "print(\"Classes:\", class_names)\n",
        "\n",
        "# ✅ Split into train and val\n",
        "val_percent = 0.1  # 10% for validation\n",
        "num_val = int(len(train_data) * val_percent)\n",
        "indices = np.random.permutation(len(train_data))\n",
        "\n",
        "val_indices = indices[:num_val]\n",
        "train_indices = indices[num_val:]\n",
        "\n",
        "train_subset = Subset(train_data, train_indices)\n",
        "val_subset = Subset(train_data, val_indices)\n",
        "\n",
        "# ✅ Use larger batch size for speed (if memory allows)\n",
        "train_loader = DataLoader(train_subset, batch_size=128, shuffle=True)\n",
        "val_loader = DataLoader(val_subset, batch_size=128, shuffle=False)\n",
        "test_loader = DataLoader(test_data, batch_size=128, shuffle=False)\n"
      ]
    },
    {
      "cell_type": "markdown",
      "metadata": {
        "id": "ryo5sNRKtJL8"
      },
      "source": [
        "**Step 6: Visualize Sample Images**\n",
        "\n",
        "Before training, let’s confirm that the images and labels are loading correctly:"
      ]
    },
    {
      "cell_type": "code",
      "execution_count": 21,
      "metadata": {
        "colab": {
          "base_uri": "https://localhost:8080/",
          "height": 119
        },
        "id": "VTRj1H8stNgp",
        "outputId": "04a9b8e7-26db-47b7-ae1d-380d8b37687e"
      },
      "outputs": [
        {
          "output_type": "display_data",
          "data": {
            "text/plain": [
              "<Figure size 640x480 with 1 Axes>"
            ],
            "image/png": "[encoded data removed]"
          },
          "metadata": {}
        },
        {
          "output_type": "stream",
          "name": "stdout",
          "text": [
            "fear angry angry angry angry angry angry fear\n"
          ]
        }
      ],
      "source": [
        "import torch\n",
        "import torchvision\n",
        "import matplotlib.pyplot as plt\n",
        "import numpy as np\n",
        "\n",
        "# Helper function to show image\n",
        "def imshow(img):\n",
        "    img = img / 2 + 0.5  # unnormalize\n",
        "    npimg = img.numpy()\n",
        "    plt.imshow(np.transpose(npimg, (1, 2, 0)))\n",
        "    plt.axis('off')\n",
        "    plt.show()\n",
        "\n",
        "# Get a batch of training data\n",
        "dataiter = iter(train_loader)\n",
        "images, labels = next(dataiter)\n",
        "\n",
        "# Show images\n",
        "imshow(torchvision.utils.make_grid(images[:8]))\n",
        "# Show labels\n",
        "print(' '.join(f'{class_names[labels[j]]}' for j in range(8)))\n"
      ]
    },
    {
      "cell_type": "markdown",
      "metadata": {
        "id": "5Xd8LydruAZU"
      },
      "source": [
        "**Step 7: Build the CNN Model**\n",
        "\n",
        "We’ll start with a simple custom CNN model. Later, we can improve it or use pretrained models like ResNet."
      ]
    },
    {
      "cell_type": "code",
      "execution_count": 22,
      "metadata": {
        "id": "7TtQXTZouFAR"
      },
      "outputs": [],
      "source": [
        "from torchvision import models\n",
        "import torch.nn as nn\n",
        "\n",
        "class ResNetFER(nn.Module):\n",
        "    def __init__(self):\n",
        "        super(ResNetFER, self).__init__()\n",
        "        self.model = models.resnet18(pretrained=True)  # keep pretrained weights\n",
        "        self.model.fc = nn.Linear(self.model.fc.in_features, 7)  # 7 emotions\n",
        "\n",
        "    def forward(self, x):\n",
        "        return self.model(x)\n"
      ]
    },
    {
      "cell_type": "markdown",
      "metadata": {
        "id": "u5oFm5QVugAJ"
      },
      "source": [
        "**Step 8: Define Loss, Optimizer, and Move Model to GPU**"
      ]
    },
    {
      "cell_type": "code",
      "execution_count": 23,
      "metadata": {
        "colab": {
          "base_uri": "https://localhost:8080/"
        },
        "id": "L5moKWsiuhim",
        "outputId": "3a0dbc55-5c48-4431-fc09-5c145e53ef85"
      },
      "outputs": [
        {
          "output_type": "stream",
          "name": "stderr",
          "text": [
            "/usr/local/lib/python3.11/dist-packages/torchvision/models/_utils.py:208: UserWarning: The parameter 'pretrained' is deprecated since 0.13 and may be removed in the future, please use 'weights' instead.\n",
            "  warnings.warn(\n",
            "/usr/local/lib/python3.11/dist-packages/torchvision/models/_utils.py:223: UserWarning: Arguments other than a weight enum or `None` for 'weights' are deprecated since 0.13 and may be removed in the future. The current behavior is equivalent to passing `weights=ResNet18_Weights.IMAGENET1K_V1`. You can also use `weights=ResNet18_Weights.DEFAULT` to get the most up-to-date weights.\n",
            "  warnings.warn(msg)\n"
          ]
        }
      ],
      "source": [
        "# ✅ Step 8: Model setup, optimizer, loss, scheduler, early stopping\n",
        "\n",
        "device = torch.device(\"cuda\" if torch.cuda.is_available() else \"cpu\")\n",
        "\n",
        "model = ResNetFER().to(device)\n",
        "\n",
        "# 🧠 Compile the model for faster training (PyTorch 2.x+)\n",
        "model = torch.compile(model)\n",
        "\n",
        "# 🔧 Enable cuDNN auto-tuner (only for GPU; speeds up conv layers)\n",
        "torch.backends.cudnn.benchmark = True\n",
        "\n",
        "# 🔒 Freeze all pretrained layers\n",
        "for param in model.model.parameters():\n",
        "    param.requires_grad = False\n",
        "\n",
        "# 🔓 Unfreeze last ResNet block and final FC layer for fine-tuning\n",
        "for param in model.model.layer4.parameters():\n",
        "    param.requires_grad = True\n",
        "for param in model.model.fc.parameters():\n",
        "    param.requires_grad = True\n",
        "\n",
        "# ✅ Optimizer (only for trainable parameters)\n",
        "optimizer = torch.optim.AdamW(\n",
        "    filter(lambda p: p.requires_grad, model.parameters()),\n",
        "    lr=1e-4, weight_decay=1e-4\n",
        ")\n",
        "\n",
        "# ✅ Loss function\n",
        "criterion = nn.CrossEntropyLoss()\n",
        "\n",
        "# ✅ Learning rate scheduler (plateau-based LR reduction)\n",
        "scheduler = torch.optim.lr_scheduler.ReduceLROnPlateau(\n",
        "    optimizer, mode='max', factor=0.5, patience=2\n",
        ")\n",
        "\n",
        "# ✅ Early stopping setup\n",
        "best_val_acc = 0.0\n",
        "patience = 4\n",
        "patience_counter = 0\n",
        "best_model_state = None\n"
      ]
    },
    {
      "cell_type": "markdown",
      "metadata": {
        "id": "mHahLlczurSc"
      },
      "source": [
        "**Step 9: Train the Model**\n",
        "\n",
        "Let’s train for 10 epochs and monitor loss and accuracy."
      ]
    },
    {
      "cell_type": "code",
      "execution_count": 24,
      "metadata": {
        "colab": {
          "base_uri": "https://localhost:8080/"
        },
        "id": "1evJHiK8ujjl",
        "outputId": "fa660ce0-308b-468a-c451-da02cee6e78f"
      },
      "outputs": [
        {
          "output_type": "stream",
          "name": "stderr",
          "text": [
            "Epoch 1/8:   0%|          | 0/57 [00:00<?, ?it/s]No CUDA runtime is found, using CUDA_HOME='/usr/local/cuda'\n",
            "Epoch 1/8: 100%|██████████| 57/57 [04:48<00:00,  5.07s/it]\n"
          ]
        },
        {
          "output_type": "stream",
          "name": "stdout",
          "text": [
            "Epoch 1, Train Loss: 78.1042, Train Acc: 47.79%, Val Loss: 6.5942, Val Acc: 55.88%\n"
          ]
        },
        {
          "output_type": "stream",
          "name": "stderr",
          "text": [
            "Epoch 2/8: 100%|██████████| 57/57 [01:49<00:00,  1.92s/it]\n"
          ]
        },
        {
          "output_type": "stream",
          "name": "stdout",
          "text": [
            "Epoch 2, Train Loss: 48.2747, Train Acc: 60.74%, Val Loss: 5.9705, Val Acc: 57.25%\n"
          ]
        },
        {
          "output_type": "stream",
          "name": "stderr",
          "text": [
            "Epoch 3/8: 100%|██████████| 57/57 [01:49<00:00,  1.93s/it]\n"
          ]
        },
        {
          "output_type": "stream",
          "name": "stdout",
          "text": [
            "Epoch 3, Train Loss: 43.2836, Train Acc: 65.11%, Val Loss: 5.7950, Val Acc: 60.88%\n"
          ]
        },
        {
          "output_type": "stream",
          "name": "stderr",
          "text": [
            "Epoch 4/8: 100%|██████████| 57/57 [01:54<00:00,  2.02s/it]\n"
          ]
        },
        {
          "output_type": "stream",
          "name": "stdout",
          "text": [
            "Epoch 4, Train Loss: 40.2620, Train Acc: 67.43%, Val Loss: 5.5749, Val Acc: 59.88%\n"
          ]
        },
        {
          "output_type": "stream",
          "name": "stderr",
          "text": [
            "Epoch 5/8: 100%|██████████| 57/57 [01:45<00:00,  1.85s/it]\n"
          ]
        },
        {
          "output_type": "stream",
          "name": "stdout",
          "text": [
            "Epoch 5, Train Loss: 37.7390, Train Acc: 69.65%, Val Loss: 5.6919, Val Acc: 59.75%\n"
          ]
        },
        {
          "output_type": "stream",
          "name": "stderr",
          "text": [
            "Epoch 6/8: 100%|██████████| 57/57 [01:47<00:00,  1.89s/it]\n"
          ]
        },
        {
          "output_type": "stream",
          "name": "stdout",
          "text": [
            "Epoch 6, Train Loss: 35.2137, Train Acc: 72.24%, Val Loss: 5.3917, Val Acc: 64.38%\n"
          ]
        },
        {
          "output_type": "stream",
          "name": "stderr",
          "text": [
            "Epoch 7/8: 100%|██████████| 57/57 [01:48<00:00,  1.90s/it]\n"
          ]
        },
        {
          "output_type": "stream",
          "name": "stdout",
          "text": [
            "Epoch 7, Train Loss: 32.7003, Train Acc: 74.61%, Val Loss: 5.6662, Val Acc: 62.25%\n"
          ]
        },
        {
          "output_type": "stream",
          "name": "stderr",
          "text": [
            "Epoch 8/8: 100%|██████████| 57/57 [01:47<00:00,  1.89s/it]\n"
          ]
        },
        {
          "output_type": "stream",
          "name": "stdout",
          "text": [
            "Epoch 8, Train Loss: 31.6217, Train Acc: 75.92%, Val Loss: 5.4052, Val Acc: 61.25%\n",
            "✅ Best model restored with val accuracy: 64.38%\n"
          ]
        }
      ],
      "source": [
        "from tqdm import tqdm\n",
        "\n",
        "epochs = 8\n",
        "for epoch in range(epochs):\n",
        "    model.train()\n",
        "    running_loss = 0.0\n",
        "    correct = 0\n",
        "    total = 0\n",
        "\n",
        "    for images, labels in tqdm(train_loader, desc=f\"Epoch {epoch+1}/{epochs}\"):\n",
        "        images, labels = images.to(device), labels.to(device)\n",
        "\n",
        "        optimizer.zero_grad()\n",
        "        outputs = model(images)\n",
        "        loss = criterion(outputs, labels)\n",
        "        loss.backward()\n",
        "        optimizer.step()\n",
        "\n",
        "        running_loss += loss.item()\n",
        "        _, predicted = torch.max(outputs, 1)\n",
        "        total += labels.size(0)\n",
        "        correct += (predicted == labels).sum().item()\n",
        "\n",
        "    train_acc = 100 * correct / total\n",
        "\n",
        "    # === VALIDATION ===\n",
        "    model.eval()\n",
        "    val_correct = 0\n",
        "    val_total = 0\n",
        "    val_loss = 0.0\n",
        "    with torch.no_grad():\n",
        "        for images, labels in val_loader:\n",
        "            images, labels = images.to(device), labels.to(device)\n",
        "            outputs = model(images)\n",
        "            loss = criterion(outputs, labels)\n",
        "\n",
        "            val_loss += loss.item()\n",
        "            _, predicted = torch.max(outputs, 1)\n",
        "            val_total += labels.size(0)\n",
        "            val_correct += (predicted == labels).sum().item()\n",
        "\n",
        "    val_acc = 100 * val_correct / val_total\n",
        "    scheduler.step(val_acc)\n",
        "\n",
        "    print(f\"Epoch {epoch+1}, \"\n",
        "          f\"Train Loss: {running_loss:.4f}, Train Acc: {train_acc:.2f}%, \"\n",
        "          f\"Val Loss: {val_loss:.4f}, Val Acc: {val_acc:.2f}%\")\n",
        "\n",
        "    # === EARLY STOPPING ===\n",
        "    if val_acc > best_val_acc:\n",
        "        best_val_acc = val_acc\n",
        "        best_model_state = model.state_dict()\n",
        "        patience_counter = 0\n",
        "    else:\n",
        "        patience_counter += 1\n",
        "        if patience_counter >= patience:\n",
        "            print(f\"🔥 Early stopping triggered at epoch {epoch+1}\")\n",
        "            break\n",
        "\n",
        "# Restore the best model\n",
        "if best_model_state:\n",
        "    model.load_state_dict(best_model_state)\n",
        "    print(f\"✅ Best model restored with val accuracy: {best_val_acc:.2f}%\")\n"
      ]
    }
  ],
  "metadata": {
    "colab": {
      "provenance": [],
      "authorship_tag": "ABX9TyMe/WQ38V1zc8r9OoEFiKaQ",
      "include_colab_link": true
    },
    "kernelspec": {
      "display_name": "Python 3",
      "name": "python3"
    },
    "language_info": {
      "name": "python"
    }
  },
  "nbformat": 4,
  "nbformat_minor": 0
}